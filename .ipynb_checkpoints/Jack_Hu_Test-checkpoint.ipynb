{
 "cells": [
  {
   "cell_type": "code",
   "execution_count": 1,
   "metadata": {},
   "outputs": [],
   "source": [
    "# All imports\n",
    "import time\n",
    "import threading\n"
   ]
  },
  {
   "cell_type": "markdown",
   "metadata": {},
   "source": [
    "Question A\n",
    "- Your goal for this question is to write a program that accepts two lines (x1,x2) and (x3,x4) on the x-axis and returns whether they overlap. As an example, (1,5) and (2,6) overlaps but not (1,5) and (6,8)."
   ]
  },
  {
   "cell_type": "code",
   "execution_count": null,
   "metadata": {},
   "outputs": [],
   "source": [
    "# This function returns whether two lines are overlapping or not\n",
    "def overLap(x1, x2, x3, x4):\n",
    "    if (x1 == x3 and x2 == x4):\n",
    "        print(\"\\nThey over lap!\\n\")\n",
    "    elif ((x3 > x1 and x3 < x2) or (x1 > x3 and x1 < x4)):\n",
    "        print(\"\\nThey over lap!\\n\")\n",
    "    else:\n",
    "        print(\"\\nThey don't over lap!\\n\")\n",
    "    "
   ]
  },
  {
   "cell_type": "code",
   "execution_count": null,
   "metadata": {},
   "outputs": [],
   "source": [
    "# Test cases by scanning user input - much easier than hard coding the test cases entirely\n",
    "while(True):\n",
    "    x1 = float(input(\"Enter a valid number for x1: \\n\"))\n",
    "    x2 = float(input(\"Enter a valid number for x2: \\n\"))\n",
    "    x3 = float(input(\"Enter a valid number for x3: \\n\"))\n",
    "    x4 = float(input(\"Enter a valid number for x4: \\n\"))\n",
    "    overLap(x1, x2, x3, x4)\n",
    "    playing = str(input(\"To exit enter, False, otherwise type anything to restart the game\"))\n",
    "    if (playing == \"False\"):\n",
    "        break"
   ]
  },
  {
   "cell_type": "markdown",
   "metadata": {},
   "source": [
    "Test cases: We are assuming of course that the user knows what are the correct inputs of x1, x2, x3, x4. x2 > x1 and x4 > x3 when entering the numbers\n",
    "\n",
    "i) Non Over Lapping\n",
    "- case 1: (x1,x2) = (1,3), (x3,x4) = (4,5)\n",
    "- case 2: (x1,x2) = (3,6), (x3,x4) = (1,2)\n",
    "\n",
    "ii) Over Lapping\n",
    "- case 1: (x1,x2) = (1,4), (x3,x4) = (1,4)\n",
    "- case 2: (x1,x2) = (2,4), (x3,x4) = (3,5)\n",
    "- case 3: (x1,x2) = (2,4), (x3,x4) = (1,3)\n",
    "\n",
    "\n",
    "\n"
   ]
  },
  {
   "cell_type": "markdown",
   "metadata": {},
   "source": [
    "Question B\n",
    "\n",
    "- The goal of this question is to write a software library that accepts 2 version string as input and returns whether one is greater than, equal, or less than the other. As an example: “1.2” is greater than “1.1”. Please provide all test cases you could think of."
   ]
  },
  {
   "cell_type": "code",
   "execution_count": null,
   "metadata": {},
   "outputs": [],
   "source": [
    "# Going to write a class for this question because we would likee to focus on scalability and reusability since we\n",
    "# do not want to reinvent the wheel every time we have a comparison logic \n",
    "class Comparator:\n",
    "    \n",
    "    # Constructor\n",
    "    def __init__(self, str1, str2):\n",
    "        self.str1 = float(str1)\n",
    "        self.str2 = float(str2)\n",
    "        \n",
    "    # Member functions\n",
    "    def compare(self):\n",
    "        if self.str1 > self.str2:\n",
    "            print(\"String 1 is greater than String 2\")\n",
    "        elif self.str1 == self.str2:\n",
    "            print(\"String 1 is equal to String 2\")\n",
    "        else:\n",
    "            print(\"String 2 is greater than String 1\")\n",
    "    "
   ]
  },
  {
   "cell_type": "code",
   "execution_count": null,
   "metadata": {},
   "outputs": [],
   "source": [
    "# Scanning user inputs to obtain the test cases\n",
    "while(True):\n",
    "    str1 = str(input(\"Enter a number string for string 1: \"))\n",
    "    str2 = str(input(\"Enter a number string for string 2: \"))\n",
    "    c = Comparator(str1, str2)\n",
    "    c.compare()\n",
    "    playing = str(input(\"To exit enter, False, otherwise type anything to restart the game\"))\n",
    "    if (playing == \"False\"):\n",
    "        break"
   ]
  },
  {
   "cell_type": "markdown",
   "metadata": {},
   "source": [
    "Test Cases:\n",
    "\n",
    "Note: In general since my code was designed to handle numbers including floats, we could use two strings with any amount of decimals behind and the usual comparison would still work. We are also assuming that the string inputs are strictly numbers in string format thus with comparison they are converted back into floats as you can see in my class definition. \n",
    "\n",
    "i) Equal Case\n",
    "- 1.1 = 1.1\n",
    "\n",
    "ii) Greater Case\n",
    "- 1.1 > 1.0 (String 1 > String 2)\n",
    "\n",
    "iii) Less Than Case\n",
    "- 0.8 < 1.3 (String 1 < String 2)\n",
    "\n"
   ]
  },
  {
   "cell_type": "markdown",
   "metadata": {},
   "source": [
    "Question C\n",
    "\n",
    "- At Ormuco, we want to optimize every bits of software we write. Your goal is to write a new library that can be integrated to the Ormuco stack. Dealing with network issues everyday, latency is our biggest problem. Thus, your challenge is to write a new Geo Distributed LRU (Least Recently Used) cache with time expiration. This library will be used extensively by many of our services so it needs to meet the following criteria:\n",
    "\n",
    " \n",
    "\n",
    "    1 - Simplicity. Integration needs to be dead simple.\n",
    "\n",
    "    2 - Resilient to network failures or crashes.\n",
    "\n",
    "    3 - Near real time replication of data across Geolocation. Writes need to be in real time.\n",
    "\n",
    "    4 - Data consistency across regions\n",
    "\n",
    "    5 - Locality of reference, data should almost always be available from the closest region\n",
    "\n",
    "    6 - Flexible Schema\n",
    "\n",
    "    7 - Cache can expire \n",
    "\n",
    " \n",
    "\n",
    "- As a hint, we are not looking for quantity, but rather quality, maintainability, scalability, testability and a code that you can be proud of. \n",
    "\n",
    "- When submitting your code add the necessary documentation to explain your overall design and missing functionalities.  Do it to the best of your knowledge."
   ]
  },
  {
   "cell_type": "code",
   "execution_count": 2,
   "metadata": {},
   "outputs": [],
   "source": [
    "\"\"\"In order to biuld a LRU cache with expiration the data structure it self would need \n",
    "to support O(1) insertion and removal for all active users at any point in time across many \n",
    "different regions in the world. We are going to implement the cache with a python dictionary/hashmap\n",
    "since it supports constant time insertion and removal\"\"\"\n",
    "\n",
    "class LRUCache:\n",
    "    \n",
    "    # Constructor\n",
    "    def __init__(self):\n",
    "        self.cacheMap = {} # caching dictionary\n",
    "        self.timeStamp = {} # time stamp dictionary for fast access and expiration\n",
    "        self.currentSize = 0 # tracking size of cache\n",
    "        backGroundThread = threading.Thread(target=self.__expiration, args=())\n",
    "        backGroundThread.daemon = True # Daemonize thread\n",
    "        backGroundThread.start() # Start the execution\n",
    "        \n",
    "    # Public functions\n",
    "    def insert(self,key,value,curTime):\n",
    "        if key in self.cacheMap.keys():\n",
    "            print(\"\\nValue exists! Updating to current value!\")\n",
    "            self.cacheMap[str(key)] = value\n",
    "            self.timeStamp[str(key)] = curTime\n",
    "            self.currentSize = self.currentSize + 1\n",
    "        else:\n",
    "            self.cacheMap[str(key)] = value\n",
    "            self.timeStamp[str(key)] = curTime\n",
    "            print(\"\\nNew value: \", str(value), \" with key: \", str(key), \" has been added to cache!\")\n",
    "            self.currentSize = self.currentSize + 1\n",
    "    \n",
    "    def retrieve(self, key):\n",
    "        if key in self.cacheMap.keys():\n",
    "            self.currentSize = self.currentSize - 1\n",
    "            return self.cacheMap.pop(str(key))\n",
    "        else:\n",
    "            print(\"\\nKey does not exist! Error!\")\n",
    "            \n",
    "    # Private functions\n",
    "    \"\"\" Method that runs forever in the background until object dies \"\"\"\n",
    "    def __expiration(self):\n",
    "        while(True):\n",
    "            time.sleep(20)\n",
    "            # make back ground thread sleep if current size of cache is empty\n",
    "            while(self.currentSize == 0):\n",
    "                time.sleep(5)\n",
    "                print(\"\\nCache expiration protocol on stand-by since cache is empty!\")\n",
    "            # expiration protocol\n",
    "            try:\n",
    "                contents = self.timeStamp.items() # returns a list of (key, value) pairs\n",
    "                key, time_stamp = min(contents, key = lambda t: t[1]) # finds the min value in the list of key value pairs\n",
    "                exprired_value = self.cacheMap.pop(str(key)) # deletes the expired entry based on the least recent time stamp \n",
    "                expired_timeStamp = self.timeStamp.pop(str(key)) # deletes the corresponding time stamp with the same key\n",
    "                self.currentSize = self.currentSize - 1\n",
    "                print(\"\\nExpired entry: \", (str(key), exprired_value, expired_timeStamp))\n",
    "                print(\"\\nCurrent size of cache: \", self.currentSize)\n",
    "            except Exception as e:\n",
    "                print(e)\n",
    "                \n",
    "\n"
   ]
  },
  {
   "cell_type": "code",
   "execution_count": null,
   "metadata": {},
   "outputs": [],
   "source": [
    "# Short test of runtime behavior of LRU Cache\n",
    "cache = LRUCache()\n",
    "cache.insert(\"1\", 1, time.time())\n",
    "time.sleep(5)\n",
    "cache.insert(\"2\", 2, time.time())\n",
    "time.sleep(5)\n",
    "cache.insert(\"3\", 3, time.time())\n",
    "time.sleep(5)\n",
    "cache.insert(\"4\", 7, time.time())\n",
    "time.sleep(30)\n",
    "cache.insert(\"5\", 7, time.time())\n",
    "cache.insert(\"6\", 7, time.time())\n",
    "cache.insert(\"9\", 7, time.time())"
   ]
  }
 ],
 "metadata": {
  "kernelspec": {
   "display_name": "Python 3",
   "language": "python",
   "name": "python3"
  },
  "language_info": {
   "codemirror_mode": {
    "name": "ipython",
    "version": 3
   },
   "file_extension": ".py",
   "mimetype": "text/x-python",
   "name": "python",
   "nbconvert_exporter": "python",
   "pygments_lexer": "ipython3",
   "version": "3.7.5"
  }
 },
 "nbformat": 4,
 "nbformat_minor": 4
}
