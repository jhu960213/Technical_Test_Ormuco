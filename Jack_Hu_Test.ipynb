{
 "cells": [
  {
   "cell_type": "code",
   "execution_count": 1,
   "metadata": {},
   "outputs": [],
   "source": [
    "# All neccessary imports"
   ]
  },
  {
   "cell_type": "markdown",
   "metadata": {},
   "source": [
    "Question A\n",
    "- Your goal for this question is to write a program that accepts two lines (x1,x2) and (x3,x4) on the x-axis and returns whether they overlap. As an example, (1,5) and (2,6) overlaps but not (1,5) and (6,8)."
   ]
  },
  {
   "cell_type": "code",
   "execution_count": 11,
   "metadata": {},
   "outputs": [],
   "source": [
    "# This function returns whether two lines are overlapping or not\n",
    "def overLap(x1, x2, x3, x4):\n",
    "    if (x1 == x3 and x2 == x4):\n",
    "        print(\"\\nThey over lap!\\n\")\n",
    "    elif ((x3 > x1 and x3 < x2) or (x1 > x3 and x1 < x4)):\n",
    "        print(\"\\nThey over lap!\\n\")\n",
    "    else:\n",
    "        print(\"\\nThey don't over lap!\\n\")\n",
    "    "
   ]
  },
  {
   "cell_type": "code",
   "execution_count": 12,
   "metadata": {},
   "outputs": [
    {
     "name": "stdout",
     "output_type": "stream",
     "text": [
      "Enter a valid number for x1: \n",
      "1\n",
      "Enter a valid number for x2: \n",
      "2\n",
      "Enter a valid number for x3: \n",
      "3\n",
      "Enter a valid number for x4: \n",
      "4\n",
      "\n",
      "They don't over lap!\n",
      "\n",
      "To exit enter, False, otherwise type anything to restart the gameFalse\n"
     ]
    }
   ],
   "source": [
    "# Test cases by scanning user input - much easier than hard coding the test cases entirely\n",
    "while(True):\n",
    "    x1 = float(input(\"Enter a valid number for x1: \\n\"))\n",
    "    x2 = float(input(\"Enter a valid number for x2: \\n\"))\n",
    "    x3 = float(input(\"Enter a valid number for x3: \\n\"))\n",
    "    x4 = float(input(\"Enter a valid number for x4: \\n\"))\n",
    "    overLap(x1, x2, x3, x4)\n",
    "    playing = str(input(\"To exit enter, False, otherwise type anything to restart the game\"))\n",
    "    if (playing == \"False\"):\n",
    "        break"
   ]
  },
  {
   "cell_type": "markdown",
   "metadata": {},
   "source": [
    "Test cases: We are assuming of course that the user knows what are the correct inputs of x1, x2, x3, x4. x2 > x1 and x4 > x3 when entering the numbers\n",
    "\n",
    "i) Non Over Lapping\n",
    "- case 1: (x1,x2) = (1,3), (x3,x4) = (4,5)\n",
    "- case 2: (x1,x2) = (3,6), (x3,x4) = (1,2)\n",
    "\n",
    "ii) Over Lapping\n",
    "- case 1: (x1,x2) = (1,4), (x3,x4) = (1,4)\n",
    "- case 2: (x1,x2) = (2,4), (x3,x4) = (3,5)\n",
    "- case 3: (x1,x2) = (2,4), (x3,x4) = (1,3)\n",
    "\n",
    "\n",
    "\n"
   ]
  },
  {
   "cell_type": "markdown",
   "metadata": {},
   "source": [
    "Question B\n",
    "\n",
    "- The goal of this question is to write a software library that accepts 2 version string as input and returns whether one is greater than, equal, or less than the other. As an example: “1.2” is greater than “1.1”. Please provide all test cases you could think of."
   ]
  },
  {
   "cell_type": "code",
   "execution_count": 13,
   "metadata": {},
   "outputs": [],
   "source": [
    "# Going to write a class for this question\n",
    "class Comparator:\n",
    "    \n",
    "    # Constructor\n",
    "    def __init__(self, str1, str2):\n",
    "        self.str1 = float(str1)\n",
    "        self.str2 = float(str2)\n",
    "        \n",
    "    # Member functions\n",
    "    def compare(self):\n",
    "        if self.str1 > self.str2:\n",
    "            print(\"String 1 is greater than String 2\")\n",
    "        elif self.str1 == self.str2:\n",
    "            print(\"String 1 is equal to String 2\")\n",
    "        else:\n",
    "            print(\"String 2 is greater than String 1\")\n",
    "    "
   ]
  },
  {
   "cell_type": "code",
   "execution_count": 14,
   "metadata": {},
   "outputs": [
    {
     "name": "stdout",
     "output_type": "stream",
     "text": [
      "Enter a number string for string 1: 1.2\n",
      "Enter a number string for string 2: 1.5\n",
      "String 2 is greater than String 1\n",
      "To exit enter, False, otherwise type anything to restart the gamej\n",
      "Enter a number string for string 1: 1.5\n",
      "Enter a number string for string 2: 1.6\n",
      "String 2 is greater than String 1\n",
      "To exit enter, False, otherwise type anything to restart the gameFalse\n"
     ]
    }
   ],
   "source": [
    "# Scanning user inputs to obtain the test cases\n",
    "while(True):\n",
    "    str1 = str(input(\"Enter a number string for string 1: \"))\n",
    "    str2 = str(input(\"Enter a number string for string 2: \"))\n",
    "    c = Comparator(str1, str2)\n",
    "    c.compare()\n",
    "    playing = str(input(\"To exit enter, False, otherwise type anything to restart the game\"))\n",
    "    if (playing == \"False\"):\n",
    "        break"
   ]
  },
  {
   "cell_type": "markdown",
   "metadata": {},
   "source": [
    "Question C\n",
    "\n",
    "- At Ormuco, we want to optimize every bits of software we write. Your goal is to write a new library that can be integrated to the Ormuco stack. Dealing with network issues everyday, latency is our biggest problem. Thus, your challenge is to write a new Geo Distributed LRU (Least Recently Used) cache with time expiration. This library will be used extensively by many of our services so it needs to meet the following criteria:\n",
    "\n",
    " \n",
    "\n",
    "    1 - Simplicity. Integration needs to be dead simple.\n",
    "\n",
    "    2 - Resilient to network failures or crashes.\n",
    "\n",
    "    3 - Near real time replication of data across Geolocation. Writes need to be in real time.\n",
    "\n",
    "    4 - Data consistency across regions\n",
    "\n",
    "    5 - Locality of reference, data should almost always be available from the closest region\n",
    "\n",
    "    6 - Flexible Schema\n",
    "\n",
    "    7 - Cache can expire \n",
    "\n",
    " \n",
    "\n",
    "- As a hint, we are not looking for quantity, but rather quality, maintainability, scalability, testability and a code that you can be proud of. \n",
    "\n",
    "- When submitting your code add the necessary documentation to explain your overall design and missing functionalities.  Do it to the best of your knowledge."
   ]
  }
 ],
 "metadata": {
  "kernelspec": {
   "display_name": "Python 3",
   "language": "python",
   "name": "python3"
  },
  "language_info": {
   "codemirror_mode": {
    "name": "ipython",
    "version": 3
   },
   "file_extension": ".py",
   "mimetype": "text/x-python",
   "name": "python",
   "nbconvert_exporter": "python",
   "pygments_lexer": "ipython3",
   "version": "3.7.5"
  }
 },
 "nbformat": 4,
 "nbformat_minor": 4
}
